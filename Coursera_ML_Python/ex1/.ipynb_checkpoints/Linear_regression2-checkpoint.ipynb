{
 "cells": [
  {
   "cell_type": "markdown",
   "metadata": {},
   "source": [
    "# Coursera上NG机器学习课作业Python实现\n",
    "**关键词**\n",
    "- 多维变量的线性回归\n",
    "- 特征标准化\n",
    "    + 均值、标准差计算法\n",
    "- 学习率与循环次数对Cost函数收敛的影响\n",
    "- 最小二次乘法直接计算theta\n",
    "    + 注意当X不是满秩矩阵时的情况（详见西瓜书）"
   ]
  },
  {
   "cell_type": "code",
   "execution_count": 2,
   "metadata": {
    "collapsed": true
   },
   "outputs": [],
   "source": [
    "#!/usr/bin/env python3\n",
    "# -*- coding: utf-8 -*-\n",
    "\"\"\"\n",
    "Created on Thu Apr 19 14:14:04 2018\n",
    "\n",
    "@author: alvin\n",
    "\"\"\"\n",
    "\n",
    "import numpy as np\n",
    "import matplotlib.pyplot as plt\n",
    "from numpy.matlib import repmat"
   ]
  },
  {
   "cell_type": "markdown",
   "metadata": {},
   "source": [
    "**函数部分**\n",
    "- 数据可视化\n",
    "- 数据标准化\n",
    "- 损失函数\n",
    "- 梯度下降"
   ]
  },
  {
   "cell_type": "code",
   "execution_count": 3,
   "metadata": {
    "collapsed": true
   },
   "outputs": [],
   "source": [
    "def _plot(X): \n",
    "    plt.grid(True)\n",
    "    plt.xlim([-100,5000])\n",
    "    plt.title('Why does it need Feature Normalization! ')\n",
    "    dummy = plt.hist(X[:,0],label = 'areas',color='orange')\n",
    "    dummy = plt.hist(X[:,1],label = 'the num of bedrooms')\n",
    "    plt.ylabel('number of this value')\n",
    "    dummy = plt.legend()\n",
    "    plt.show();\n",
    "    \n",
    "    plt.grid(True)\n",
    "    plt.xlim([0,10])\n",
    "    dummy = plt.hist(X[:,0],label = 'areas',color='orange')\n",
    "    dummy = plt.hist(X[:,1],label = 'the num of bedrooms')\n",
    "    plt.xlabel('value')\n",
    "    plt.ylabel('number of this value')\n",
    "    dummy = plt.legend()\n",
    "    plt.show();\n",
    "    \n",
    "def _plot_norm(X): \n",
    "    plt.grid(True)\n",
    "    plt.xlim([-5,5])\n",
    "    plt.title('After Feature Normalization! ')\n",
    "    dummy = plt.hist(X[:,0],label = 'areas',color='orange')\n",
    "    dummy = plt.hist(X[:,1],label = 'the num of bedrooms')\n",
    "    plt.ylabel('Value after norm')\n",
    "    dummy = plt.legend()\n",
    "    plt.show();\n",
    "\n",
    "def _plot_cov_Cost(J_histroy):\n",
    "    plt.figure(figsize=(10,6));\n",
    "    plt.plot(range(len(J_histroy)),J_histroy,'b-');\n",
    "    plt.grid(True);\n",
    "    plt.title(\"Convergence of Cost Function\");\n",
    "    plt.xlabel(\"Iterations\");\n",
    "    plt.ylabel(\"Cost:J\");\n",
    "    plt.show()"
   ]
  },
  {
   "cell_type": "code",
   "execution_count": 5,
   "metadata": {
    "collapsed": true
   },
   "outputs": [],
   "source": [
    "def featureNormalize(X):\n",
    "    # 确保特征值在差不多的区间以内可采用 均值 标准化\n",
    "    # 返回一个经过标准化的X向量，每一个特征的均值都为0，标准差为1\n",
    "    # 返回均值mu，和标准差sigma\n",
    "    X_norm = X.copy();# 初始化，备份一个X，作为未来的返回值\n",
    "    mu = np.zeros((1,X.shape[1])); # 在这里mu是一个1*n的向量\n",
    "    sigma = np.zeros((1,X.shape[1])) # 在这里sigma也是一个1*n的向量\n",
    "    mu = np.mean(X,axis=0); # 计算出X的均值向量\n",
    "    sigma = np.std(X,axis=0,ddof=1); # 计算出X的标准差向量,注意到ddof参数的设置\n",
    "    _mu = repmat(mu,X.shape[0],1)\n",
    "    _sigma = repmat(sigma,X.shape[0],1)\n",
    "    X_norm = X_norm - _mu  # 使用标准化计算公式\n",
    "    X_norm = X_norm / _sigma\n",
    "    return X_norm,mu,sigma\n",
    "    \n",
    "def computeCostMulti(X,y,theta):\n",
    "    # 这次可以使用上次写好的Cost函数，因为之前的就是向量化的计算\n",
    "    #这里实现损失函数的计算方法，\n",
    "    #theta是n维向量 以及 截距项 因此为 （n+1）*1\n",
    "    #X是增加了一个截矩项的特征向量矩阵 m*(n+1)\n",
    "    #y是对应真实的估计值向量 m*1\n",
    "    m = y.size;\n",
    "    hyp = np.dot(X,theta); # 这里的hyp是 (theta_0*x1 + theta_1)\n",
    "    a = hyp - y;  \n",
    "    coef = 1./(2*m);\n",
    "    J = coef * np.dot(a.T,a);#返回一个实数\n",
    "    return float(J); \n",
    "    \n",
    "def gradientDescentMulti(X,y,theta,alpha,iterations):   \n",
    "     # 这次可以使用上次写好的Cost函数，因为之前的就是向量化的计算\n",
    "     # 通过梯度下降来得到theta的估计值\n",
    "     # 根据循环次数和学习率alpha来更新theta参数\n",
    "    m = y.size;\n",
    "    J_histroy = [];#初始化cost的数组，用于存放cost的值\n",
    "    theta_histroy = [];\n",
    "     #梯度下降公式实现\n",
    "    for iter in range(iterations) :\n",
    "        a = np.dot(np.transpose(X),np.dot(X,theta)-y);\n",
    "        theta_histroy.append(list(theta[:,0]))\n",
    "        theta = theta - alpha * (1/m) * a;\n",
    "        J_histroy.append(computeCostMulti(X,y,theta));#将每一次梯度下降的损失函数结果存起来\n",
    "    return theta,J_histroy,theta_histroy;"
   ]
  },
  {
   "cell_type": "markdown",
   "metadata": {},
   "source": [
    "**主函数部分**"
   ]
  },
  {
   "cell_type": "code",
   "execution_count": 6,
   "metadata": {},
   "outputs": [
    {
     "data": {
      "image/png": "[encoded data removed]",
      "text/plain": [
       "<matplotlib.figure.Figure at 0x116e304a8>"
      ]
     },
     "metadata": {},
     "output_type": "display_data"
    },
    {
     "data": {
      "image/png": "[encoded data removed]",
      "text/plain": [
       "<matplotlib.figure.Figure at 0x116e502e8>"
      ]
     },
     "metadata": {},
     "output_type": "display_data"
    }
   ],
   "source": [
    "# =====================数据集导入=======================\n",
    "datapath = \"data/ex1data2.txt\";\n",
    "data = np.loadtxt(datapath,delimiter=',',usecols=(0,1,2),unpack=True);\n",
    "X = np.transpose(np.array(data[:-1]));\n",
    "y = np.transpose(np.array(data[-1:]));\n",
    "m = y.size;\n",
    "Origal_X = X;\n",
    "\n",
    "# =====================可视化数据点=======================\n",
    "_plot(X);# 可以看出这里需要特征标准化，不然对于X,第二个特征显得太不重要了"
   ]
  },
  {
   "cell_type": "code",
   "execution_count": 7,
   "metadata": {},
   "outputs": [
    {
     "ename": "AttributeError",
     "evalue": "module 'numpy' has no attribute 'matlib'",
     "output_type": "error",
     "traceback": [
      "\u001b[0;31m---------------------------------------------------------------------------\u001b[0m",
      "\u001b[0;31mAttributeError\u001b[0m                            Traceback (most recent call last)",
      "\u001b[0;32m<ipython-input-7-a2aa05934e79>\u001b[0m in \u001b[0;36m<module>\u001b[0;34m()\u001b[0m\n\u001b[1;32m      1\u001b[0m \u001b[0;31m# =====================特征标准化=========================\u001b[0m\u001b[0;34m\u001b[0m\u001b[0;34m\u001b[0m\u001b[0m\n\u001b[0;32m----> 2\u001b[0;31m \u001b[0mX\u001b[0m\u001b[0;34m,\u001b[0m\u001b[0mmu\u001b[0m\u001b[0;34m,\u001b[0m\u001b[0msigma\u001b[0m \u001b[0;34m=\u001b[0m \u001b[0mfeatureNormalize\u001b[0m\u001b[0;34m(\u001b[0m\u001b[0mX\u001b[0m\u001b[0;34m)\u001b[0m\u001b[0;34m\u001b[0m\u001b[0m\n\u001b[0m\u001b[1;32m      3\u001b[0m \u001b[0m_plot_norm\u001b[0m\u001b[0;34m(\u001b[0m\u001b[0mX\u001b[0m\u001b[0;34m)\u001b[0m \u001b[0;31m# 可视化标准化后的图\u001b[0m\u001b[0;34m\u001b[0m\u001b[0m\n\u001b[1;32m      4\u001b[0m \u001b[0;31m# 为X增加一个intercept项\u001b[0m\u001b[0;34m\u001b[0m\u001b[0;34m\u001b[0m\u001b[0m\n\u001b[1;32m      5\u001b[0m \u001b[0mb\u001b[0m \u001b[0;34m=\u001b[0m \u001b[0mnp\u001b[0m\u001b[0;34m.\u001b[0m\u001b[0mones\u001b[0m\u001b[0;34m(\u001b[0m\u001b[0;34m(\u001b[0m\u001b[0mX\u001b[0m\u001b[0;34m.\u001b[0m\u001b[0mshape\u001b[0m\u001b[0;34m[\u001b[0m\u001b[0;36m0\u001b[0m\u001b[0;34m]\u001b[0m\u001b[0;34m,\u001b[0m\u001b[0;36m1\u001b[0m\u001b[0;34m)\u001b[0m\u001b[0;34m)\u001b[0m\u001b[0;34m;\u001b[0m\u001b[0;34m\u001b[0m\u001b[0m\n",
      "\u001b[0;32m<ipython-input-5-68d08fef0ce6>\u001b[0m in \u001b[0;36mfeatureNormalize\u001b[0;34m(X)\u001b[0m\n\u001b[1;32m      8\u001b[0m     \u001b[0mmu\u001b[0m \u001b[0;34m=\u001b[0m \u001b[0mnp\u001b[0m\u001b[0;34m.\u001b[0m\u001b[0mmean\u001b[0m\u001b[0;34m(\u001b[0m\u001b[0mX\u001b[0m\u001b[0;34m,\u001b[0m\u001b[0maxis\u001b[0m\u001b[0;34m=\u001b[0m\u001b[0;36m0\u001b[0m\u001b[0;34m)\u001b[0m\u001b[0;34m;\u001b[0m \u001b[0;31m# 计算出X的均值向量\u001b[0m\u001b[0;34m\u001b[0m\u001b[0m\n\u001b[1;32m      9\u001b[0m     \u001b[0msigma\u001b[0m \u001b[0;34m=\u001b[0m \u001b[0mnp\u001b[0m\u001b[0;34m.\u001b[0m\u001b[0mstd\u001b[0m\u001b[0;34m(\u001b[0m\u001b[0mX\u001b[0m\u001b[0;34m,\u001b[0m\u001b[0maxis\u001b[0m\u001b[0;34m=\u001b[0m\u001b[0;36m0\u001b[0m\u001b[0;34m,\u001b[0m\u001b[0mddof\u001b[0m\u001b[0;34m=\u001b[0m\u001b[0;36m1\u001b[0m\u001b[0;34m)\u001b[0m\u001b[0;34m;\u001b[0m \u001b[0;31m# 计算出X的标准差向量,注意到ddof参数的设置\u001b[0m\u001b[0;34m\u001b[0m\u001b[0m\n\u001b[0;32m---> 10\u001b[0;31m     \u001b[0m_mu\u001b[0m \u001b[0;34m=\u001b[0m \u001b[0mnp\u001b[0m\u001b[0;34m.\u001b[0m\u001b[0mmatlib\u001b[0m\u001b[0;34m.\u001b[0m\u001b[0mrepmat\u001b[0m\u001b[0;34m(\u001b[0m\u001b[0mmu\u001b[0m\u001b[0;34m,\u001b[0m\u001b[0mX\u001b[0m\u001b[0;34m.\u001b[0m\u001b[0mshape\u001b[0m\u001b[0;34m[\u001b[0m\u001b[0;36m0\u001b[0m\u001b[0;34m]\u001b[0m\u001b[0;34m,\u001b[0m\u001b[0;36m1\u001b[0m\u001b[0;34m)\u001b[0m\u001b[0;34m\u001b[0m\u001b[0m\n\u001b[0m\u001b[1;32m     11\u001b[0m     \u001b[0m_sigma\u001b[0m \u001b[0;34m=\u001b[0m \u001b[0mnp\u001b[0m\u001b[0;34m.\u001b[0m\u001b[0mmatlib\u001b[0m\u001b[0;34m.\u001b[0m\u001b[0mrepmat\u001b[0m\u001b[0;34m(\u001b[0m\u001b[0msigma\u001b[0m\u001b[0;34m,\u001b[0m\u001b[0mX\u001b[0m\u001b[0;34m.\u001b[0m\u001b[0mshape\u001b[0m\u001b[0;34m[\u001b[0m\u001b[0;36m0\u001b[0m\u001b[0;34m]\u001b[0m\u001b[0;34m,\u001b[0m\u001b[0;36m1\u001b[0m\u001b[0;34m)\u001b[0m\u001b[0;34m\u001b[0m\u001b[0m\n\u001b[1;32m     12\u001b[0m     \u001b[0mX_norm\u001b[0m \u001b[0;34m=\u001b[0m \u001b[0mX_norm\u001b[0m \u001b[0;34m-\u001b[0m \u001b[0m_mu\u001b[0m  \u001b[0;31m# 使用标准化计算公式\u001b[0m\u001b[0;34m\u001b[0m\u001b[0m\n",
      "\u001b[0;31mAttributeError\u001b[0m: module 'numpy' has no attribute 'matlib'"
     ]
    }
   ],
   "source": [
    "# =====================特征标准化=========================\n",
    "X,mu,sigma = featureNormalize(X)\n",
    "_plot_norm(X) # 可视化标准化后的图\n",
    "# 为X增加一个intercept项\n",
    "b = np.ones((X.shape[0],1));\n",
    "X = np.concatenate((b,X),axis=1);# 这里在X前列加上1，与上一次的代码不同，这一次尽量与Ng的作业一致\n",
    "print(X) # 打印出经过标准化后的X"
   ]
  },
  {
   "cell_type": "code",
   "execution_count": 8,
   "metadata": {},
   "outputs": [
    {
     "name": "stdout",
     "output_type": "stream",
     "text": [
      "[[ -2.84792143e+285]\n",
      " [ -4.11334275e+282]]\n"
     ]
    },
    {
     "name": "stderr",
     "output_type": "stream",
     "text": [
      "/Users/alvin/Documents/tools/anaconda3/lib/python3.6/site-packages/ipykernel_launcher.py:40: RuntimeWarning: invalid value encountered in subtract\n"
     ]
    }
   ],
   "source": [
    "# =====================梯度下降=========================\n",
    "initial_theta = np.zeros((X.shape[1],1));\n",
    "theta,J_history,theta_histroy = gradientDescentMulti(X,y,initial_theta,0.1,50) # 设置合适的学习率 learning rate和循环次数\n",
    "theta_1,J_history1,theta_histroy1 = gradientDescentMulti(X,y,initial_theta,0.1,500)\n",
    "theta_2,J_history2,theta_histroy2 = gradientDescentMulti(X,y,initial_theta,1.5,50)\n",
    "print(theta)"
   ]
  },
  {
   "cell_type": "code",
   "execution_count": 10,
   "metadata": {
    "collapsed": true
   },
   "outputs": [],
   "source": [
    "# =====================Cost函数的收敛图像=========================\n",
    "_plot_cov_Cost(J_history)\n",
    "_plot_cov_Cost(J_history1) # 循环次数多，早已收敛\n",
    "_plot_cov_Cost(J_history2) # 学习率高，可能导致无法收敛"
   ]
  },
  {
   "cell_type": "code",
   "execution_count": 11,
   "metadata": {
    "scrolled": true
   },
   "outputs": [
    {
     "ename": "NameError",
     "evalue": "name 'b' is not defined",
     "output_type": "error",
     "traceback": [
      "\u001b[0;31m---------------------------------------------------------------------------\u001b[0m",
      "\u001b[0;31mNameError\u001b[0m                                 Traceback (most recent call last)",
      "\u001b[0;32m<ipython-input-11-c3ed442217af>\u001b[0m in \u001b[0;36m<module>\u001b[0;34m()\u001b[0m\n\u001b[1;32m      1\u001b[0m \u001b[0;31m# ===================== 最小二次乘法=============================\u001b[0m\u001b[0;34m\u001b[0m\u001b[0;34m\u001b[0m\u001b[0m\n\u001b[1;32m      2\u001b[0m \u001b[0;32mfrom\u001b[0m \u001b[0mnumpy\u001b[0m\u001b[0;34m.\u001b[0m\u001b[0mlinalg\u001b[0m \u001b[0;32mimport\u001b[0m \u001b[0minv\u001b[0m\u001b[0;34m\u001b[0m\u001b[0m\n\u001b[0;32m----> 3\u001b[0;31m \u001b[0mOrigal_X\u001b[0m \u001b[0;34m=\u001b[0m \u001b[0mnp\u001b[0m\u001b[0;34m.\u001b[0m\u001b[0mconcatenate\u001b[0m\u001b[0;34m(\u001b[0m\u001b[0;34m(\u001b[0m\u001b[0mb\u001b[0m\u001b[0;34m,\u001b[0m\u001b[0mOrigal_X\u001b[0m\u001b[0;34m)\u001b[0m\u001b[0;34m,\u001b[0m\u001b[0maxis\u001b[0m\u001b[0;34m=\u001b[0m\u001b[0;36m1\u001b[0m\u001b[0;34m)\u001b[0m\u001b[0;34m;\u001b[0m\u001b[0;34m\u001b[0m\u001b[0m\n\u001b[0m\u001b[1;32m      4\u001b[0m \u001b[0mtheta_Norm\u001b[0m \u001b[0;34m=\u001b[0m \u001b[0mnp\u001b[0m\u001b[0;34m.\u001b[0m\u001b[0mdot\u001b[0m\u001b[0;34m(\u001b[0m\u001b[0mnp\u001b[0m\u001b[0;34m.\u001b[0m\u001b[0mdot\u001b[0m\u001b[0;34m(\u001b[0m\u001b[0minv\u001b[0m\u001b[0;34m(\u001b[0m\u001b[0mnp\u001b[0m\u001b[0;34m.\u001b[0m\u001b[0mdot\u001b[0m\u001b[0;34m(\u001b[0m\u001b[0mOrigal_X\u001b[0m\u001b[0;34m.\u001b[0m\u001b[0mT\u001b[0m\u001b[0;34m,\u001b[0m\u001b[0mOrigal_X\u001b[0m\u001b[0;34m)\u001b[0m\u001b[0;34m)\u001b[0m\u001b[0;34m,\u001b[0m\u001b[0mOrigal_X\u001b[0m\u001b[0;34m.\u001b[0m\u001b[0mT\u001b[0m\u001b[0;34m)\u001b[0m\u001b[0;34m,\u001b[0m\u001b[0my\u001b[0m\u001b[0;34m)\u001b[0m\u001b[0;34m;\u001b[0m\u001b[0;34m\u001b[0m\u001b[0m\n\u001b[1;32m      5\u001b[0m \u001b[0mprint\u001b[0m\u001b[0;34m(\u001b[0m\u001b[0mtheta_Norm\u001b[0m\u001b[0;34m)\u001b[0m\u001b[0;34m\u001b[0m\u001b[0m\n",
      "\u001b[0;31mNameError\u001b[0m: name 'b' is not defined"
     ]
    }
   ],
   "source": [
    "# ===================== 最小二次乘法=============================\n",
    "from numpy.linalg import inv\n",
    "Origal_X = np.concatenate((b,Origal_X),axis=1);\n",
    "theta_Norm = np.dot(np.dot(inv(np.dot(Origal_X.T,Origal_X)),Origal_X.T),y);\n",
    "print(theta_Norm)\n",
    "\n",
    "new_X = np.array([1650.,3.]);\n",
    "price = np.dot(np.r_[1,new_X],theta_Norm);\n",
    "print(\"$%0.2f\" % float(price))"
   ]
  }
 ],
 "metadata": {
  "kernelspec": {
   "display_name": "Python 3",
   "language": "python",
   "name": "python3"
  },
  "language_info": {
   "codemirror_mode": {
    "name": "ipython",
    "version": 3
   },
   "file_extension": ".py",
   "mimetype": "text/x-python",
   "name": "python",
   "nbconvert_exporter": "python",
   "pygments_lexer": "ipython3",
   "version": "3.6.1"
  }
 },
 "nbformat": 4,
 "nbformat_minor": 2
}
