{
 "cells": [
  {
   "cell_type": "markdown",
   "metadata": {},
   "source": [
    "## Coursera上NG机器学习课的部分作业Python实现\n",
    "\n",
    "**关键词**\n",
    "- 假设函数 Hyp\n",
    "- 损失函数 Cost Function\n",
    "- 最小二次乘法\n",
    "- 梯度下降算法"
   ]
  },
  {
   "cell_type": "code",
   "execution_count": 1,
   "metadata": {
    "collapsed": true
   },
   "outputs": [],
   "source": [
    "#!/usr/bin/env python3\n",
    "# -*- coding: utf-8 -*-\n",
    "\"\"\"\n",
    "Created on Tue Apr 17 13:51:18 2018\n",
    "\n",
    "@author: alvin\n",
    "\"\"\"\n",
    "import numpy as np\n",
    "import matplotlib.pyplot as plt"
   ]
  },
  {
   "cell_type": "markdown",
   "metadata": {},
   "source": [
    "**函数部分**\n",
    "\n",
    "- 数据可视化\n",
    "- 损失函数计算方法\n",
    "- 梯度下降算法"
   ]
  },
  {
   "cell_type": "code",
   "execution_count": 3,
   "metadata": {
    "collapsed": true
   },
   "outputs": [],
   "source": [
    "def _plot(x,y):\n",
    "    plt.figure(figsize=(10,8));\n",
    "    plt.plot(x,y,'rx',markersize=10);\n",
    "    plt.grid(True);\n",
    "    plt.xlabel('Population of City in 10,000s');\n",
    "    plt.ylabel('Profit in $10,000s'); \n",
    "    \n",
    "    \n",
    "def _plot_J(J_histroy):\n",
    "    plt.figure(figsize=(10,6));\n",
    "    plt.plot(range(len(J_histroy)),J_histroy,'ro');\n",
    "    plt.grid(True);\n",
    "    plt.title(\"Cost函数的收敛情况\");\n",
    "    plt.xlabel(\"Iterations\");\n",
    "    plt.ylabel(\"Cost函数值:J\");\n",
    "    \n",
    "def _ComputerCost(X,y,theta):\n",
    "     #这里实现损失函数的计算方法，\n",
    "     #theta是n维向量 n*1\n",
    "     #X是增加了一个截矩项的特征向量矩阵 m*n\n",
    "     #y是对应真实的估计值向量 m*1\n",
    "     m = y.size;\n",
    "     hyp = np.dot(X,theta);\n",
    "     a = hyp - y;\n",
    "     coef = 1./(2*m);\n",
    "     J = coef * np.dot(a.T,a);#返回一个实数\n",
    "     return float(J); \n",
    "\n",
    "def _gradientDescent(X,y,theta,alpha,iterations):\n",
    "     # 通过梯度下降来得到theta的估计值\n",
    "     # 根据循环次数和学习率alpha来更新theta参数\n",
    "      m = y.size;\n",
    "      J_histroy = [];#初始化cost的数组，用于存放cost的值\n",
    "      theta_histroy = [];\n",
    "      #梯度下降公式实现\n",
    "     \n",
    "      for iter in range(iterations) :\n",
    "          a = np.dot(np.transpose(X),np.dot(X,theta)-y);\n",
    "          theta_histroy.append(list(theta[:,0]))\n",
    "          theta = theta - alpha * (1/m) * a;\n",
    "          J_histroy.append(_ComputerCost(X,y,theta));#将每一次梯度下降的损失函数结果存起来\n",
    "      return theta,J_histroy,theta_histroy;\n",
    "        "
   ]
  },
  {
   "cell_type": "markdown",
   "metadata": {},
   "source": [
    "**主函数部分**"
   ]
  },
  {
   "cell_type": "code",
   "execution_count": 4,
   "metadata": {
    "collapsed": true
   },
   "outputs": [],
   "source": [
    "# =====================导入数据集=======================\n",
    "datapath = \"data/ex1data1.txt\";\n",
    "data = np.loadtxt(datapath,delimiter=',',usecols=(0,1),unpack=True);\n",
    "X = np.transpose(np.array(data[:-1]));\n",
    "y = np.transpose(np.array(data[-1:]));\n",
    "m = y.size;\n",
    "\n",
    "# =====================导入数据并可视化数据集=======================\n",
    "_plot(X,y);"
   ]
  },
  {
   "cell_type": "code",
   "execution_count": 5,
   "metadata": {},
   "outputs": [
    {
     "name": "stdout",
     "output_type": "stream",
     "text": [
      "32.07273387745567\n"
     ]
    }
   ],
   "source": [
    "# =====================损失函数==================\n",
    "b = np.ones((X.shape[0],1));\n",
    "X = np.concatenate((X,b),axis=1);\n",
    "init_theta = np.zeros((X.shape[1],1))\n",
    "\n",
    "J = _ComputerCost(X,y,init_theta);\n",
    "print(J);"
   ]
  },
  {
   "cell_type": "code",
   "execution_count": 6,
   "metadata": {},
   "outputs": [
    {
     "name": "stdout",
     "output_type": "stream",
     "text": [
      "[[ 1.16636235]\n",
      " [-3.63029144]]\n"
     ]
    }
   ],
   "source": [
    "# =======================梯度下降==================   \n",
    "iterations = 1500;#参数设置\n",
    "alpha = 0.01; \n",
    "theta,J_histroy, theta_histroy= _gradientDescent(X,y,init_theta,alpha,iterations);\n",
    "print(theta);    \n",
    "\n",
    "_plot_J(J_histroy);\n",
    "_plot(X[:,0],y);\n",
    "plt.plot(X[:,0],theta[0]*X[:,0]+theta[1],'b-'); # 画出hyp函数"
   ]
  },
  {
   "cell_type": "code",
   "execution_count": null,
   "metadata": {
    "collapsed": true
   },
   "outputs": [],
   "source": []
  }
 ],
 "metadata": {
  "kernelspec": {
   "display_name": "Python 3",
   "language": "python",
   "name": "python3"
  },
  "language_info": {
   "codemirror_mode": {
    "name": "ipython",
    "version": 3
   },
   "file_extension": ".py",
   "mimetype": "text/x-python",
   "name": "python",
   "nbconvert_exporter": "python",
   "pygments_lexer": "ipython3",
   "version": "3.6.1"
  }
 },
 "nbformat": 4,
 "nbformat_minor": 2
}
